{
 "cells": [
  {
   "cell_type": "code",
   "execution_count": 2,
   "metadata": {},
   "outputs": [],
   "source": [
    "import torch"
   ]
  },
  {
   "cell_type": "code",
   "execution_count": 60,
   "metadata": {
    "tags": []
   },
   "outputs": [
    {
     "output_type": "stream",
     "name": "stdout",
     "text": "tensor([2.5667, 0.8632, 0.4417])\n"
    },
    {
     "output_type": "execute_result",
     "data": {
      "text/plain": "tensor([2.5008, 0.8999, 0.6816])"
     },
     "metadata": {},
     "execution_count": 60
    }
   ],
   "source": [
    "x = torch.rand(3,3,3)\n",
    "u,s,v = torch.svd(x.reshape(9,3))\n",
    "print(s)\n",
    "u,s,v = torch.svd(x.reshape(3,9))\n",
    "s"
   ]
  },
  {
   "cell_type": "code",
   "execution_count": null,
   "metadata": {},
   "outputs": [],
   "source": []
  }
 ],
 "metadata": {
  "language_info": {
   "codemirror_mode": {
    "name": "ipython",
    "version": 3
   },
   "file_extension": ".py",
   "mimetype": "text/x-python",
   "name": "python",
   "nbconvert_exporter": "python",
   "pygments_lexer": "ipython3",
   "version": "3.6.10-final"
  },
  "orig_nbformat": 2,
  "kernelspec": {
   "name": "python361064bitinvivocondacfdfecb63a244b2e9884fe9f69044509",
   "display_name": "Python 3.6.10 64-bit ('invivo': conda)"
  }
 },
 "nbformat": 4,
 "nbformat_minor": 2
}